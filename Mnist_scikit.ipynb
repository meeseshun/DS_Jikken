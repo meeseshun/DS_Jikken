{
 "cells": [
  {
   "cell_type": "code",
   "execution_count": 1,
   "metadata": {},
   "outputs": [],
   "source": [
    "import numpy as np\n",
    "import struct\n",
    "import pickle\n",
    "import matplotlib.pyplot as plt\n",
    "from PIL import Image\n",
    "\n",
    "#data load\n",
    "def load_mnist(is_training=True):\n",
    "    if is_training:\n",
    "        fd = open('./Mnist/train-images.idx3-ubyte','rb')\n",
    "        loaded = np.fromfile(file=fd, dtype=np.uint8)\n",
    "        trainX = loaded[16:].reshape((60000, 784)).astype(np.float32)\n",
    "\n",
    "        fd = open('./Mnist/train-labels.idx1-ubyte','rb')\n",
    "        loaded = np.fromfile(file=fd, dtype=np.uint8)\n",
    "        trY = loaded[8:].reshape((60000)).astype(np.int32)\n",
    "\n",
    "        #trX = trainX / 255.\n",
    "        trX = trainX\n",
    "\n",
    "        return trX, trY\n",
    "    else:\n",
    "        fd = open('./Mnist/t10k-images.idx3-ubyte','rb')\n",
    "        loaded = np.fromfile(file=fd, dtype=np.uint8)\n",
    "        teX = loaded[16:].reshape((10000, 784)).astype(np.float)\n",
    "\n",
    "        fd = open('./Mnist/t10k-labels.idx1-ubyte','rb')\n",
    "        loaded = np.fromfile(file=fd, dtype=np.uint8)\n",
    "        teY = loaded[8:].reshape((10000)).astype(np.int32)\n",
    "\n",
    "        #teX = teX / 255.\n",
    "        teX = teX\n",
    "\n",
    "        return teX, teY\n"
   ]
  },
  {
   "cell_type": "code",
   "execution_count": 2,
   "metadata": {},
   "outputs": [
    {
     "name": "stderr",
     "output_type": "stream",
     "text": [
      "/Users/shuniwase/opt/anaconda3/lib/python3.7/site-packages/ipykernel_launcher.py:25: DeprecationWarning: `np.float` is a deprecated alias for the builtin `float`. To silence this warning, use `float` by itself. Doing this will not modify any behavior and is safe. If you specifically wanted the numpy scalar type, use `np.float64` here.\n",
      "Deprecated in NumPy 1.20; for more details and guidance: https://numpy.org/devdocs/release/1.20.0-notes.html#deprecations\n"
     ]
    },
    {
     "data": {
      "text/plain": [
       "[<matplotlib.lines.Line2D at 0x7f8ac4c3b790>]"
      ]
     },
     "execution_count": 2,
     "metadata": {},
     "output_type": "execute_result"
    },
    {
     "data": {
      "image/png": "[encoded data removed]",
      "text/plain": [
       "<Figure size 432x288 with 1 Axes>"
      ]
     },
     "metadata": {
      "needs_background": "light"
     },
     "output_type": "display_data"
    }
   ],
   "source": [
    "import numpy as np\n",
    "from sklearn.decomposition import PCA\n",
    "import matplotlib.pyplot as plt\n",
    "\n",
    "def comb_imgs(origin_imgs, col, row, each_width, each_height, new_type):\n",
    "    new_img = Image.new(new_type, (col* each_width, row* each_height))\n",
    "    for i in range(len(origin_imgs)):\n",
    "        each_img = array_to_img(np.array(origin_imgs[i]).reshape(each_width, each_width))\n",
    "        new_img.paste(each_img, ((i % col) * each_width, (i // col) * each_width))\n",
    "    return new_img\n",
    "\n",
    "def array_to_img(array):\n",
    "    #array=array*255\n",
    "    new_img=Image.fromarray(array.astype(np.uint8))\n",
    "    return new_img\n",
    "\n",
    "X_train, y_train= load_mnist(is_training=True)\n",
    "X_test, y_test= load_mnist(is_training=False)\n",
    "low_train_img = comb_imgs(X_train, 100, 100, 28, 28, 'L')\n",
    "origin_4_imgs = []\n",
    "for i in range(10000):\n",
    "     if y_train[i] == 4 and len(origin_4_imgs) < 10000:\n",
    "        origin_4_imgs.append(X_train[i])\n",
    "\n",
    "pca = PCA()\n",
    "pca.fit(X_train)\n",
    "accumulated_ratio_ = np.add.accumulate(pca.explained_variance_ratio_)\n",
    "plt.plot(accumulated_ratio_)\n"
   ]
  },
  {
   "cell_type": "code",
   "execution_count": 25,
   "metadata": {},
   "outputs": [
    {
     "name": "stdout",
     "output_type": "stream",
     "text": [
      "1:0.12764815885507233\n",
      "2:0.22984025630855576\n",
      "4:0.35995095923919596\n",
      "8:0.5190637525995988\n",
      "16:0.6744528088388245\n",
      "32:0.7994125302466036\n",
      "64:0.8934691834756888\n",
      "128:0.9563163312945835\n",
      "256:0.9912845291156072\n",
      "300:0.9954851946402106\n",
      "350:0.9981873879992053\n",
      "400:0.999484021780799\n",
      "450:0.999938168013708\n",
      "512:1.0\n",
      "764:1.0\n"
     ]
    }
   ],
   "source": [
    "pcadims = [1, 2, 4, 8, 16, 32, 64, 128, 256, 300, 350, 400, 450, 512, 764]\n",
    "ccrs = []\n",
    "for i in range(15):\n",
    "    n_comp = pcadims[i]\n",
    "    pca = PCA(n_components=n_comp)\n",
    "    pca.fit(origin_4_imgs)\n",
    "    X_train_latent = pca.transform(origin_4_imgs)\n",
    "    X_train_inv = pca.inverse_transform(X_train_latent)\n",
    "    #comb_imgs(X_train_inv, 25, 40, 28, 28, 'L').show()\n",
    "    ccrs = pca.explained_variance_ratio_\n",
    "\n",
    "for j in range(15):\n",
    "    n = pcadims[j]\n",
    "    print(str(n) + ':' + str(sum(ccrs[0:n])))"
   ]
  },
  {
   "cell_type": "code",
   "execution_count": 4,
   "metadata": {},
   "outputs": [
    {
     "data": {
      "text/plain": [
       "[<matplotlib.lines.Line2D at 0x7f8ac4f6c850>]"
      ]
     },
     "execution_count": 4,
     "metadata": {},
     "output_type": "execute_result"
    },
    {
     "data": {
      "image/png": "[encoded data removed]",
      "text/plain": [
       "<Figure size 432x288 with 1 Axes>"
      ]
     },
     "metadata": {
      "needs_background": "light"
     },
     "output_type": "display_data"
    }
   ],
   "source": [
    "accumulated_ratio_ = np.add.accumulate(pca.explained_variance_ratio_)\n",
    "plt.plot(accumulated_ratio_)"
   ]
  },
  {
   "cell_type": "code",
   "execution_count": 5,
   "metadata": {},
   "outputs": [
    {
     "ename": "AttributeError",
     "evalue": "'PCA' object has no attribute 'explained_variace_ratio_'",
     "output_type": "error",
     "traceback": [
      "\u001b[0;31m---------------------------------------------------------------------------\u001b[0m",
      "\u001b[0;31mAttributeError\u001b[0m                            Traceback (most recent call last)",
      "\u001b[0;32m<ipython-input-5-3eaedcd6a84d>\u001b[0m in \u001b[0;36m<module>\u001b[0;34m\u001b[0m\n\u001b[0;32m----> 1\u001b[0;31m \u001b[0mprint\u001b[0m\u001b[0;34m(\u001b[0m\u001b[0mpca\u001b[0m\u001b[0;34m.\u001b[0m\u001b[0mexplained_variace_ratio_\u001b[0m\u001b[0;34m)\u001b[0m\u001b[0;34m\u001b[0m\u001b[0;34m\u001b[0m\u001b[0m\n\u001b[0m",
      "\u001b[0;31mAttributeError\u001b[0m: 'PCA' object has no attribute 'explained_variace_ratio_'"
     ]
    }
   ],
   "source": [
    "print(pca.explained_variace_ratio_)"
   ]
  },
  {
   "cell_type": "code",
   "execution_count": null,
   "metadata": {},
   "outputs": [],
   "source": []
  }
 ],
 "metadata": {
  "kernelspec": {
   "display_name": "Python 3",
   "language": "python",
   "name": "python3"
  },
  "language_info": {
   "codemirror_mode": {
    "name": "ipython",
    "version": 3
   },
   "file_extension": ".py",
   "mimetype": "text/x-python",
   "name": "python",
   "nbconvert_exporter": "python",
   "pygments_lexer": "ipython3",
   "version": "3.7.6"
  }
 },
 "nbformat": 4,
 "nbformat_minor": 4
}
